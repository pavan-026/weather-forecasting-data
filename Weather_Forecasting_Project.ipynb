{
 "cells": [
  {
   "cell_type": "markdown",
   "id": "16b8ac6a",
   "metadata": {},
   "source": [
    "# Weather Forecasting Using Deep Learning"
   ]
  },
  {
   "cell_type": "markdown",
   "id": "6682ed73",
   "metadata": {},
   "source": [
    "This project demonstrates how to forecast weather (temperature) using LSTM networks in Python. Synthetic data is used for demonstration purposes."
   ]
  },
  {
   "cell_type": "code",
   "execution_count": null,
   "id": "9365b842",
   "metadata": {},
   "outputs": [],
   "source": [
    "import numpy as np\n",
    "import pandas as pd\n",
    "from sklearn.preprocessing import MinMaxScaler\n",
    "from sklearn.model_selection import train_test_split\n",
    "from tensorflow.keras.models import Sequential\n",
    "from tensorflow.keras.layers import LSTM, Dense"
   ]
  },
  {
   "cell_type": "code",
   "execution_count": null,
   "id": "90926839",
   "metadata": {},
   "outputs": [],
   "source": [
    "def generate_temperature_data(num_days=365*2):\n",
    "    time = np.arange(0, num_days, 1)\n",
    "    temperature = 25 * np.sin(2 * np.pi * time / 365) + 15 + np.random.normal(0, 2, num_days)\n",
    "    df = pd.DataFrame(temperature, columns=['temperature'])\n",
    "    return df\n",
    "\n",
    "df = generate_temperature_data()\n",
    "df.head()"
   ]
  },
  {
   "cell_type": "code",
   "execution_count": null,
   "id": "67bb1a8a",
   "metadata": {},
   "outputs": [],
   "source": [
    "scaler = MinMaxScaler(feature_range=(0, 1))\n",
    "scaled_data = scaler.fit_transform(df['temperature'].values.reshape(-1, 1))\n",
    "\n",
    "def create_sequences(data, look_back=7):\n",
    "    X, y = [], []\n",
    "    for i in range(len(data) - look_back - 1):\n",
    "        a = data[i:(i + look_back), 0]\n",
    "        X.append(a)\n",
    "        y.append(data[i + look_back, 0])\n",
    "    return np.array(X), np.array(y)\n",
    "\n",
    "look_back = 7\n",
    "X, y = create_sequences(scaled_data, look_back)\n",
    "X = np.reshape(X, (X.shape[0], X.shape[1], 1))\n",
    "\n",
    "X_train, X_test, y_train, y_test = train_test_split(X, y, test_size=0.2, random_state=42)"
   ]
  },
  {
   "cell_type": "code",
   "execution_count": null,
   "id": "8daa1e97",
   "metadata": {},
   "outputs": [],
   "source": [
    "model = Sequential()\n",
    "model.add(LSTM(50, return_sequences=True, input_shape=(look_back, 1)))\n",
    "model.add(LSTM(50))\n",
    "model.add(Dense(1))\n",
    "model.compile(loss='mean_squared_error', optimizer='adam')\n",
    "model.summary()"
   ]
  },
  {
   "cell_type": "code",
   "execution_count": null,
   "id": "fd941a9f",
   "metadata": {},
   "outputs": [],
   "source": [
    "model.fit(X_train, y_train, epochs=5, batch_size=32, verbose=2, validation_data=(X_test, y_test))"
   ]
  },
  {
   "cell_type": "code",
   "execution_count": null,
   "id": "17087763",
   "metadata": {},
   "outputs": [],
   "source": [
    "def predict_next_day_temp(last_days_temp):\n",
    "    scaled_input = scaler.transform(np.array(last_days_temp).reshape(-1, 1))\n",
    "    input_seq = np.reshape(scaled_input, (1, look_back, 1))\n",
    "    prediction = model.predict(input_seq, verbose=0)\n",
    "    predicted_temp = scaler.inverse_transform(prediction)[0][0]\n",
    "    return predicted_temp\n",
    "\n",
    "last_days = df['temperature'].values[-look_back:]\n",
    "predicted_temperature = predict_next_day_temp(last_days)\n",
    "print(f\"Last {look_back} days temperatures: {np.round(last_days, 2)}\")\n",
    "print(f\"Predicted temperature for the next day: {predicted_temperature:.2f} °C\")"
   ]
  },
  {
   "cell_type": "markdown",
   "id": "4fb80134",
   "metadata": {},
   "source": [
    "This concludes the basic implementation of weather forecasting using LSTM and synthetic temperature data."
   ]
  }
 ],
 "metadata": {},
 "nbformat": 4,
 "nbformat_minor": 5
}
